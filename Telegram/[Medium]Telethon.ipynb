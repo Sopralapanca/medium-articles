{
  "nbformat": 4,
  "nbformat_minor": 0,
  "metadata": {
    "colab": {
      "provenance": [],
      "authorship_tag": "ABX9TyNQ/whQNFUZXns0YKkXjpR/",
      "include_colab_link": true
    },
    "kernelspec": {
      "name": "python3",
      "display_name": "Python 3"
    },
    "language_info": {
      "name": "python"
    }
  },
  "cells": [
    {
      "cell_type": "markdown",
      "metadata": {
        "id": "view-in-github",
        "colab_type": "text"
      },
      "source": [
        "<a href=\"https://colab.research.google.com/github/Sopralapanca/medium-articles/blob/main/Telegram/%5BMedium%5DTelethon.ipynb\" target=\"_parent\"><img src=\"https://colab.research.google.com/assets/colab-badge.svg\" alt=\"Open In Colab\"/></a>"
      ]
    },
    {
      "cell_type": "markdown",
      "source": [
        "First of all go to [my.telegram.org](https://my.telegram.org), and login with your telephone number.\n",
        "Create new application, enter app title and short name, url can be left empty. Choose a platform and click on create application button to obtain *app api_id* and *app api_hash*"
      ],
      "metadata": {
        "id": "uxA_hU3pmhDX"
      }
    },
    {
      "cell_type": "code",
      "source": [
        "!pip install Telethon==1.36.0"
      ],
      "metadata": {
        "colab": {
          "base_uri": "https://localhost:8080/"
        },
        "id": "ByjId2acojoV",
        "outputId": "d5de5a05-8bdc-43c6-f88f-17e91a7cd537"
      },
      "execution_count": 1,
      "outputs": [
        {
          "output_type": "stream",
          "name": "stdout",
          "text": [
            "Collecting Telethon==1.36.0\n",
            "  Downloading Telethon-1.36.0.tar.gz (606 kB)\n",
            "\u001b[?25l     \u001b[90m━━━━━━━━━━━━━━━━━━━━━━━━━━━━━━━━━━━━━━━━\u001b[0m \u001b[32m0.0/606.3 kB\u001b[0m \u001b[31m?\u001b[0m eta \u001b[36m-:--:--\u001b[0m\r\u001b[2K     \u001b[91m━━━━━━━━━━━━━━━━━━━━━━━━━━━━━━━━━━━━━━━\u001b[0m\u001b[91m╸\u001b[0m \u001b[32m604.2/606.3 kB\u001b[0m \u001b[31m20.9 MB/s\u001b[0m eta \u001b[36m0:00:01\u001b[0m\r\u001b[2K     \u001b[90m━━━━━━━━━━━━━━━━━━━━━━━━━━━━━━━━━━━━━━━━\u001b[0m \u001b[32m606.3/606.3 kB\u001b[0m \u001b[31m13.1 MB/s\u001b[0m eta \u001b[36m0:00:00\u001b[0m\n",
            "\u001b[?25h  Installing build dependencies ... \u001b[?25l\u001b[?25hdone\n",
            "  Getting requirements to build wheel ... \u001b[?25l\u001b[?25hdone\n",
            "  Preparing metadata (pyproject.toml) ... \u001b[?25l\u001b[?25hdone\n",
            "Collecting pyaes (from Telethon==1.36.0)\n",
            "  Downloading pyaes-1.6.1.tar.gz (28 kB)\n",
            "  Preparing metadata (setup.py) ... \u001b[?25l\u001b[?25hdone\n",
            "Requirement already satisfied: rsa in /usr/local/lib/python3.10/dist-packages (from Telethon==1.36.0) (4.9)\n",
            "Requirement already satisfied: pyasn1>=0.1.3 in /usr/local/lib/python3.10/dist-packages (from rsa->Telethon==1.36.0) (0.6.0)\n",
            "Building wheels for collected packages: Telethon, pyaes\n",
            "  Building wheel for Telethon (pyproject.toml) ... \u001b[?25l\u001b[?25hdone\n",
            "  Created wheel for Telethon: filename=Telethon-1.36.0-py3-none-any.whl size=680879 sha256=ba273a3581380a1156a4c3407d491dc0a6a2f551fb940b3a389d2242d3437faf\n",
            "  Stored in directory: /root/.cache/pip/wheels/4f/6f/86/da2c68242ca7dd92786186731ee763b7ecac8866666ac47170\n",
            "  Building wheel for pyaes (setup.py) ... \u001b[?25l\u001b[?25hdone\n",
            "  Created wheel for pyaes: filename=pyaes-1.6.1-py3-none-any.whl size=26346 sha256=6ee03b6448a18cbd4bf9130c2e87733d2ba9c3601b3f078d3d473c3fd53ac899\n",
            "  Stored in directory: /root/.cache/pip/wheels/d6/84/5f/ea6aef85a93c7e1922486369874f4740a5642d261e09c59140\n",
            "Successfully built Telethon pyaes\n",
            "Installing collected packages: pyaes, Telethon\n",
            "Successfully installed Telethon-1.36.0 pyaes-1.6.1\n"
          ]
        }
      ]
    },
    {
      "cell_type": "code",
      "source": [
        "# to run the script in google colab, this can be avoided if you are running the code in your pc\n",
        "!pip install nest_asyncio\n",
        "\n",
        "import nest_asyncio\n",
        "\n",
        "# Apply the patch to allow nested event loops\n",
        "nest_asyncio.apply()"
      ],
      "metadata": {
        "colab": {
          "base_uri": "https://localhost:8080/"
        },
        "id": "hLmEO6w8rygc",
        "outputId": "a30edbc9-605d-490c-a46d-b504660ce309"
      },
      "execution_count": 12,
      "outputs": [
        {
          "output_type": "stream",
          "name": "stdout",
          "text": [
            "Requirement already satisfied: nest_asyncio in /usr/local/lib/python3.10/dist-packages (1.6.0)\n"
          ]
        }
      ]
    },
    {
      "cell_type": "code",
      "execution_count": 8,
      "metadata": {
        "id": "BSmzc9_cmOzf"
      },
      "outputs": [],
      "source": [
        "api_id = \"YOUR API ID\"\n",
        "api_hash = \"YOUR API HASH\"\n",
        "phone = \"YOUR PHONE NUMBER WITH +xxx\""
      ]
    },
    {
      "cell_type": "code",
      "source": [
        "from telethon import TelegramClient, events\n",
        "import asyncio\n",
        "import os\n",
        "from sqlite3 import OperationalError\n",
        "\n",
        "channels_list = [\"channel1\", \"channel2\"]\n",
        "my_channel = \"my_channel\"\n",
        "\n",
        "async def main(tg_client):\n",
        "  print(\"starting...\")\n",
        "  await tg_client.start(phone)\n",
        "\n",
        "  @tg_client.on(events.NewMessage(incoming=True, from_users=channels_list))\n",
        "  async def my_event_handler(event):\n",
        "\n",
        "      sender = await event.get_sender()\n",
        "\n",
        "      if sender.username in channels_list:\n",
        "          channel = sender.username\n",
        "\n",
        "          # get last message of the channel\n",
        "          async for message in tg_client.iter_messages(channel, limit=1):\n",
        "              print(message.text)\n",
        "\n",
        "              img_path = \"./imgs/image.jpg\"\n",
        "              await tg_client.download_media(message=message.media, file=img_path)\n",
        "\n",
        "              await tg_client.send_file(entity=my_channel, file=img_path, caption=\"My Caption\")\n",
        "\n",
        "\n",
        "  await tg_client.run_until_disconnected()\n",
        "\n",
        "\n",
        "if __name__ == '__main__':\n",
        "\n",
        "    telethon_session_name = 'telethon_session'\n",
        "    session_file = f'./{telethon_session_name}.session'\n",
        "\n",
        "    try:\n",
        "      telegram_client = TelegramClient(session_file, api_id, api_hash)\n",
        "\n",
        "    except OperationalError:\n",
        "      # if you have login problem like locked database, try to delete it\n",
        "      if os.path.exists(session_file):\n",
        "          os.remove(session_file)\n",
        "          telegram_client = TelegramClient(session_file, api_id, api_hash)\n",
        "      else:\n",
        "          raise\n",
        "\n",
        "    try:\n",
        "        loop = asyncio.get_event_loop()\n",
        "        loop.run_until_complete(\n",
        "            main(tg_client=telegram_client))\n",
        "    except Exception as e:\n",
        "        print(f\"An error occurred: {e}\")\n",
        "    finally:\n",
        "        # If you run the script in google colab leave the following code commented, otherwhise remove comments and delete pass\n",
        "        #loop.run_until_complete(asyncio.sleep(2))\n",
        "        #loop.close()\n",
        "        pass"
      ],
      "metadata": {
        "id": "YC23dbKkouul"
      },
      "execution_count": null,
      "outputs": []
    },
    {
      "cell_type": "markdown",
      "source": [
        "Check the list of all the events https://docs.telethon.dev/en/stable/modules/events.html"
      ],
      "metadata": {
        "id": "8VHDmekfuDGM"
      }
    },
    {
      "cell_type": "code",
      "source": [],
      "metadata": {
        "id": "pfmUAYOOqmAP"
      },
      "execution_count": null,
      "outputs": []
    }
  ]
}