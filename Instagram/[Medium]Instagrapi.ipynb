{
  "nbformat": 4,
  "nbformat_minor": 0,
  "metadata": {
    "colab": {
      "provenance": [],
      "authorship_tag": "ABX9TyMNIFwXxbuaMOKUVDB3GGRE",
      "include_colab_link": true
    },
    "kernelspec": {
      "name": "python3",
      "display_name": "Python 3"
    },
    "language_info": {
      "name": "python"
    }
  },
  "cells": [
    {
      "cell_type": "markdown",
      "metadata": {
        "id": "view-in-github",
        "colab_type": "text"
      },
      "source": [
        "<a href=\"https://colab.research.google.com/github/Sopralapanca/medium-articles/blob/main/Instagram/%5BMedium%5DInstagrapi.ipynb\" target=\"_parent\"><img src=\"https://colab.research.google.com/assets/colab-badge.svg\" alt=\"Open In Colab\"/></a>"
      ]
    },
    {
      "cell_type": "code",
      "execution_count": null,
      "metadata": {
        "id": "X0gVhgQ0CXh1"
      },
      "outputs": [],
      "source": [
        "!pip install instagrapi==2.1.2 # first of all install this version for reproducibility"
      ]
    },
    {
      "cell_type": "code",
      "source": [
        "#define your username and passwornd\n",
        "instagram_username = \"YOUR USERNAME\"\n",
        "instagram_password = \"YOUR PASSWORD\""
      ],
      "metadata": {
        "id": "8JqAZfyXCgaa"
      },
      "execution_count": 2,
      "outputs": []
    },
    {
      "cell_type": "code",
      "source": [
        "#login to the client, eventually it will ask for a verification code send via email\n",
        "from instagrapi import Client\n",
        "import random\n",
        "\n",
        "ig_client = Client()\n",
        "instagram_session = \"instagram_session\"\n",
        "instagram_session_path = f\"./{instagram_session}.json\"\n",
        "\n",
        "try:\n",
        "    ig_client.load_settings(instagram_session_path)\n",
        "\n",
        "except FileNotFoundError:\n",
        "    ig_client.login(instagram_username, instagram_password)\n",
        "    ig_client.dump_settings(instagram_session_path)"
      ],
      "metadata": {
        "id": "V94KuEKYDNuP"
      },
      "execution_count": 3,
      "outputs": []
    },
    {
      "cell_type": "markdown",
      "source": [
        "Instagrapi is a powerful library which can do many things. lets see"
      ],
      "metadata": {
        "id": "8n1xpp18HDGs"
      }
    },
    {
      "cell_type": "code",
      "source": [
        "# post a photo and leave a comment on that media\n",
        "img_path = \"./img.jpg\"\n",
        "text = \"a beautiful caption here!\"\n",
        "hashtags = \"#hashtag1 #hashtag2\"\n",
        "media = ig_client.photo_upload(img_path, caption=text)\n",
        "media_id = media.dict()[\"id\"]\n",
        "ig_client.media_comment(media_id, f\"\\n\\n\\n\\n {hashtags}\")"
      ],
      "metadata": {
        "id": "aDeZ5eOODc7c"
      },
      "execution_count": null,
      "outputs": []
    },
    {
      "cell_type": "code",
      "source": [
        "# post a reel and leave a comment on that media\n",
        "text = \"a beautiful caption here!\"\n",
        "hashtags = \"#hashtag1 #hashtag2\"\n",
        "video_path = \"./video_reel.mp4\"\n",
        "media = ig_client.clip_upload(video_path, caption=text)\n",
        "media_id = media.dict()[\"id\"]\n",
        "ig_client.media_comment(media_id, f\"{hashtags}\")"
      ],
      "metadata": {
        "id": "d958S79vKSdd"
      },
      "execution_count": null,
      "outputs": []
    },
    {
      "cell_type": "code",
      "source": [
        "# get following or followers user list\n",
        "my_pk = ig_client.account_info().dict()[\"pk\"]\n",
        "following_dict = ig_client.user_following(my_pk)\n",
        "followers_dict = ig_client.user_followers(my_pk)\n",
        "\n"
      ],
      "metadata": {
        "id": "OfvRSz7bHo1_"
      },
      "execution_count": 6,
      "outputs": []
    },
    {
      "cell_type": "code",
      "source": [
        "#follow a random user, use it with attention since you can be detected as a bot\n",
        "\n",
        "# first we get the id of a random user between our followers\n",
        "ids = [key for key, user in followers_dict.items() if not user.is_private]\n",
        "\n",
        "# choose a random id and inspect its followers\n",
        "random_user = random.choice(ids)\n",
        "random_user_followers = ig_client.user_followers(random_user)\n",
        "\n",
        "#again get only the ids\n",
        "ids = [key for key, user in random_user_followers.items() if not user.is_private]\n",
        "\n",
        "if len(ids) > 0:\n",
        "    random_user_follower = random.choice(ids)\n",
        "    ig_client.user_follow(random_user_follower)\n",
        "else:\n",
        "    print(f\"no followers for user with id {random_user_followers}\")\n"
      ],
      "metadata": {
        "id": "MyGGHRESIUTO"
      },
      "execution_count": null,
      "outputs": []
    },
    {
      "cell_type": "code",
      "source": [
        "# like a post\n",
        "# first we get the id of a random user between our following\n",
        "ids = [key for key, user in following_dict.items() if not user.is_private]\n",
        "\n",
        "# choose a random id and inspect its media\n",
        "random_user = random.choice(ids)\n",
        "print(random_user)\n",
        "media_list = ig_client.user_medias(random_user)\n",
        "if len(media_list) > 0:\n",
        "  print(media_list)\n",
        "  last_post_id = media_list[0].dict()[\"id\"]\n",
        "  print(last_post_id)\n",
        "  res = ig_client.media_like(last_post_id)\n",
        "  print(res)\n",
        "else:\n",
        "  print(f\"no media for user with id {random_user}\")"
      ],
      "metadata": {
        "id": "F9LA70DmIexc"
      },
      "execution_count": null,
      "outputs": []
    },
    {
      "cell_type": "code",
      "source": [],
      "metadata": {
        "id": "KubUosKnMCA3"
      },
      "execution_count": null,
      "outputs": []
    }
  ]
}